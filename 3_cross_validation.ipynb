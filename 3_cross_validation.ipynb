{
  "cells": [
    {
      "cell_type": "code",
      "execution_count": 1,
      "metadata": {
        "colab": {
          "base_uri": "https://localhost:8080/"
        },
        "id": "49UgIm3Fmv8o",
        "outputId": "7d3a2d0d-64f2-4550-89a3-ce94ed87cd21"
      },
      "outputs": [
        {
          "name": "stdout",
          "output_type": "stream",
          "text": [
            "Mounted at /content/drive\n"
          ]
        }
      ],
      "source": [
        "from google.colab import drive\n",
        "import sys\n",
        "drive.mount('/content/drive',force_remount=True)\n",
        "sys.path.insert(0,'/content/drive/MyDrive/EPF notebooks/deep_learning_project')"
      ]
    },
    {
      "cell_type": "code",
      "execution_count": 2,
      "metadata": {
        "id": "r1-8U6kJmUue"
      },
      "outputs": [],
      "source": [
        "import torch\n",
        "import torch.nn as nn\n",
        "import torch.nn.functional as F\n",
        "from torch.utils.data import DataLoader, ConcatDataset, random_split, SubsetRandomSampler\n",
        "import torchvision\n",
        "import torchvision.transforms as transforms\n",
        "\n",
        "\n",
        "import numpy as np\n",
        "import matplotlib.pyplot as plt\n",
        "import plotly.express as px\n",
        "from sklearn.metrics import confusion_matrix\n",
        "from sklearn.metrics import classification_report\n",
        "from sklearn.model_selection import KFold\n",
        "import seaborn as sns\n",
        "\n",
        "from package import CNN"
      ]
    },
    {
      "cell_type": "markdown",
      "metadata": {
        "id": "8JwX0T4pmUuh"
      },
      "source": [
        "# **K-fold Validation**"
      ]
    },
    {
      "cell_type": "code",
      "execution_count": 3,
      "metadata": {
        "colab": {
          "base_uri": "https://localhost:8080/",
          "height": 217,
          "referenced_widgets": [
            "09aa61033f8148a5ba4a7f34754fc60a",
            "1f4e6caff3c440b28f48fb03e57ec3ba",
            "fa67addf26914522b8b74b1f47a1e7f5",
            "e748e10cf6614922b0422d37c556438f",
            "7d66ee34122740868c18ae4648ba0c28",
            "30b4998fe00c4c129a409e86d559e77e",
            "1d59c11cbfd24fdfb7329d97d70ca07f",
            "b263fc868a214e59960991bda94dcdea",
            "358e0cffdd044e77bbc77efff2dc5312",
            "ba532e787bda4bd8a39fcd40c2293ac8",
            "abdef9f3281049c9ac603ef280920052",
            "35e07327d87f44bab2500a07a6d27dc0",
            "fad113955b984f8abadd6ba8674d97d8",
            "512bde4d92b94c65a9ace6c6b5a79db9",
            "90405142cdb64532b2c8fb880d6a3603",
            "2ba4c38b5ca24e1bb1962cbcff83f30d",
            "f4ef60ddff9f4a4b98bb4a918638ce06",
            "e9b3c282f32c4637b997b72aee5e88a1",
            "abb0121370dc414cbc40735b412d8cdb",
            "e92f556406ab4d668942e49329202a8b",
            "ad8c403a6b4244fab2a68125a11df573",
            "82802a373109424580b04e6bb60df7e8",
            "5dd4f262f1044dd187a777ed4c51aba3",
            "51c8b90a18a74b19a787aad4b4890ecf",
            "cb068b0b8a8842a0b7d3c78433be27b9",
            "bcbda30835924aa6a8ed1e2bf4abdde9",
            "ce81a98704c3490bb660b6c2f7a4e891",
            "9521394676af43db8d8b544c347512d2",
            "51b124a3300d469f9a9e1697371499de",
            "8a5cf044b89143b698e204ea5f9a9b1f",
            "699c012022f94e64ab13889e3b71eda6",
            "35a049c182d94463885e17ba4540b785",
            "bdc229cfbcb6460cabd71feee404faec"
          ]
        },
        "id": "1xEcoyz4mUuj",
        "outputId": "ef0a17bd-3442-40de-9742-81eb9756bf3b"
      },
      "outputs": [
        {
          "name": "stdout",
          "output_type": "stream",
          "text": [
            "Downloading https://sid.erda.dk/public/archives/daaeac0d7ce1152aea9b61d9f1e19370/GTSRB-Training_fixed.zip to gtsrb/GTSRB-Training_fixed.zip\n"
          ]
        },
        {
          "data": {
            "application/vnd.jupyter.widget-view+json": {
              "model_id": "09aa61033f8148a5ba4a7f34754fc60a",
              "version_major": 2,
              "version_minor": 0
            },
            "text/plain": [
              "  0%|          | 0/187490228 [00:00<?, ?it/s]"
            ]
          },
          "metadata": {},
          "output_type": "display_data"
        },
        {
          "name": "stdout",
          "output_type": "stream",
          "text": [
            "Extracting gtsrb/GTSRB-Training_fixed.zip to gtsrb\n",
            "Downloading https://sid.erda.dk/public/archives/daaeac0d7ce1152aea9b61d9f1e19370/GTSRB_Final_Test_Images.zip to gtsrb/GTSRB_Final_Test_Images.zip\n"
          ]
        },
        {
          "data": {
            "application/vnd.jupyter.widget-view+json": {
              "model_id": "35e07327d87f44bab2500a07a6d27dc0",
              "version_major": 2,
              "version_minor": 0
            },
            "text/plain": [
              "  0%|          | 0/88978620 [00:00<?, ?it/s]"
            ]
          },
          "metadata": {},
          "output_type": "display_data"
        },
        {
          "name": "stdout",
          "output_type": "stream",
          "text": [
            "Extracting gtsrb/GTSRB_Final_Test_Images.zip to gtsrb\n",
            "Downloading https://sid.erda.dk/public/archives/daaeac0d7ce1152aea9b61d9f1e19370/GTSRB_Final_Test_GT.zip to gtsrb/GTSRB_Final_Test_GT.zip\n"
          ]
        },
        {
          "data": {
            "application/vnd.jupyter.widget-view+json": {
              "model_id": "5dd4f262f1044dd187a777ed4c51aba3",
              "version_major": 2,
              "version_minor": 0
            },
            "text/plain": [
              "  0%|          | 0/99620 [00:00<?, ?it/s]"
            ]
          },
          "metadata": {},
          "output_type": "display_data"
        },
        {
          "name": "stdout",
          "output_type": "stream",
          "text": [
            "Extracting gtsrb/GTSRB_Final_Test_GT.zip to gtsrb\n"
          ]
        }
      ],
      "source": [
        "transforms = transforms.Compose([\n",
        "        transforms.Resize([120,120]), # the image are not all equal in size, we need to define a standard size\n",
        "        transforms.ToTensor() # converts images to torch Tensors and rescales pixels to [0;1] \n",
        "    ])\n",
        "\n",
        "train_dataset = torchvision.datasets.GTSRB(\n",
        "    root='.',\n",
        "    split='train',\n",
        "    transform=transforms,\n",
        "    download=True\n",
        ")\n",
        "\n",
        "test_dataset = torchvision.datasets.GTSRB(\n",
        "    root='.',\n",
        "    split='test',\n",
        "    transform=transforms,\n",
        "    download=True\n",
        ")"
      ]
    },
    {
      "cell_type": "code",
      "execution_count": 4,
      "metadata": {
        "id": "v9cJPcT9mUuk"
      },
      "outputs": [],
      "source": [
        "torch.manual_seed(17)\n",
        "dataset = torch.utils.data.ConcatDataset([train_dataset, test_dataset])\n",
        "splits=KFold(n_splits=4,shuffle=True,random_state=17)"
      ]
    },
    {
      "cell_type": "code",
      "execution_count": 5,
      "metadata": {
        "id": "PaOVNR-gmUuk"
      },
      "outputs": [],
      "source": [
        "def train_epoch(model,device,dataloader,criterion,optimizer):\n",
        "    train_loss,train_correct=0.0,0\n",
        "    model.train()\n",
        "    for inputs, targets in dataloader:\n",
        "\n",
        "        inputs,targets = inputs.to(device),targets.to(device)\n",
        "        optimizer.zero_grad()\n",
        "        output = model(inputs)\n",
        "        loss = criterion(output,targets)\n",
        "        loss.backward()\n",
        "        optimizer.step()\n",
        "        train_loss += loss.item() * inputs.size(0)\n",
        "        _, predictions = torch.max(output.data, 1)\n",
        "        train_correct += (predictions == targets).sum().item()\n",
        "\n",
        "    return train_loss,train_correct\n",
        "  \n",
        "def valid_epoch(model,device,dataloader,criterion):\n",
        "    valid_loss, val_correct = 0.0, 0\n",
        "    model.eval()\n",
        "    for inputs, targets in dataloader:\n",
        "\n",
        "        inputs,targets = inputs.to(device),targets.to(device)\n",
        "        output = model(inputs)\n",
        "        loss = criterion(output,targets)\n",
        "        valid_loss+= loss.item()*inputs.size(0)\n",
        "        _, predictions = torch.max(output.data,1)\n",
        "        val_correct+= (predictions == targets).sum().item()\n",
        "\n",
        "    return valid_loss,val_correct"
      ]
    },
    {
      "cell_type": "code",
      "execution_count": 6,
      "metadata": {
        "colab": {
          "base_uri": "https://localhost:8080/"
        },
        "id": "xk5NQA0kmUul",
        "outputId": "96dd482f-e87e-4292-f92a-8b6dfe8003ba"
      },
      "outputs": [
        {
          "name": "stdout",
          "output_type": "stream",
          "text": [
            "cuda:0\n"
          ]
        }
      ],
      "source": [
        "history = {'train_loss': [], 'test_loss': [],'train_acc':[],'test_acc':[]}\n",
        "\n",
        "device = torch.device(\"cuda:0\" if torch.cuda.is_available() else \"cpu\")\n",
        "print(device)\n",
        "criterion = nn.CrossEntropyLoss()\n",
        "\n",
        "BATCH_SIZE = 128\n",
        "EPOCHS = 10"
      ]
    },
    {
      "cell_type": "code",
      "execution_count": 7,
      "metadata": {
        "colab": {
          "base_uri": "https://localhost:8080/"
        },
        "id": "RFANAjjwmUum",
        "outputId": "4809f539-d0ab-417f-8422-5a2334bcc67b"
      },
      "outputs": [
        {
          "name": "stdout",
          "output_type": "stream",
          "text": [
            "Fold: 1\n",
            "Epoch:1/10 AVG Training Loss:0.877 AVG Test Loss:0.211,            AVG Training Acc 75.59, AVG Test Acc 94.09\n",
            "Epoch:2/10 AVG Training Loss:0.163 AVG Test Loss:0.077,            AVG Training Acc 95.29, AVG Test Acc 97.77\n",
            "Epoch:3/10 AVG Training Loss:0.103 AVG Test Loss:0.057,            AVG Training Acc 96.90, AVG Test Acc 98.27\n",
            "Epoch:4/10 AVG Training Loss:0.060 AVG Test Loss:0.048,            AVG Training Acc 98.14, AVG Test Acc 98.64\n",
            "Epoch:5/10 AVG Training Loss:0.053 AVG Test Loss:0.036,            AVG Training Acc 98.36, AVG Test Acc 98.97\n",
            "Epoch:6/10 AVG Training Loss:0.054 AVG Test Loss:0.037,            AVG Training Acc 98.26, AVG Test Acc 98.95\n",
            "Epoch:7/10 AVG Training Loss:0.044 AVG Test Loss:0.031,            AVG Training Acc 98.60, AVG Test Acc 98.98\n",
            "Epoch:8/10 AVG Training Loss:0.029 AVG Test Loss:0.024,            AVG Training Acc 99.06, AVG Test Acc 99.33\n",
            "Epoch:9/10 AVG Training Loss:0.022 AVG Test Loss:0.027,            AVG Training Acc 99.33, AVG Test Acc 99.30\n",
            "Epoch:10/10 AVG Training Loss:0.030 AVG Test Loss:0.023,            AVG Training Acc 99.07, AVG Test Acc 99.23\n",
            "Fold: 2\n",
            "Epoch:1/10 AVG Training Loss:0.858 AVG Test Loss:0.143,            AVG Training Acc 76.22, AVG Test Acc 95.82\n",
            "Epoch:2/10 AVG Training Loss:0.160 AVG Test Loss:0.079,            AVG Training Acc 95.33, AVG Test Acc 97.76\n",
            "Epoch:3/10 AVG Training Loss:0.102 AVG Test Loss:0.055,            AVG Training Acc 96.98, AVG Test Acc 98.36\n",
            "Epoch:4/10 AVG Training Loss:0.066 AVG Test Loss:0.040,            AVG Training Acc 98.06, AVG Test Acc 98.82\n",
            "Epoch:5/10 AVG Training Loss:0.063 AVG Test Loss:0.041,            AVG Training Acc 97.98, AVG Test Acc 98.79\n",
            "Epoch:6/10 AVG Training Loss:0.038 AVG Test Loss:0.034,            AVG Training Acc 98.84, AVG Test Acc 99.01\n",
            "Epoch:7/10 AVG Training Loss:0.042 AVG Test Loss:0.042,            AVG Training Acc 98.72, AVG Test Acc 98.79\n",
            "Epoch:8/10 AVG Training Loss:0.037 AVG Test Loss:0.033,            AVG Training Acc 98.79, AVG Test Acc 98.99\n",
            "Epoch:9/10 AVG Training Loss:0.046 AVG Test Loss:0.033,            AVG Training Acc 98.53, AVG Test Acc 99.14\n",
            "Epoch:10/10 AVG Training Loss:0.024 AVG Test Loss:0.028,            AVG Training Acc 99.24, AVG Test Acc 99.25\n",
            "Fold: 3\n",
            "Epoch:1/10 AVG Training Loss:0.879 AVG Test Loss:0.188,            AVG Training Acc 75.17, AVG Test Acc 94.82\n",
            "Epoch:2/10 AVG Training Loss:0.160 AVG Test Loss:0.075,            AVG Training Acc 95.39, AVG Test Acc 98.08\n",
            "Epoch:3/10 AVG Training Loss:0.091 AVG Test Loss:0.056,            AVG Training Acc 97.31, AVG Test Acc 98.47\n",
            "Epoch:4/10 AVG Training Loss:0.062 AVG Test Loss:0.045,            AVG Training Acc 98.04, AVG Test Acc 98.88\n",
            "Epoch:5/10 AVG Training Loss:0.064 AVG Test Loss:0.045,            AVG Training Acc 98.03, AVG Test Acc 98.69\n",
            "Epoch:6/10 AVG Training Loss:0.061 AVG Test Loss:0.043,            AVG Training Acc 98.06, AVG Test Acc 98.74\n",
            "Epoch:7/10 AVG Training Loss:0.031 AVG Test Loss:0.036,            AVG Training Acc 99.03, AVG Test Acc 99.08\n",
            "Epoch:8/10 AVG Training Loss:0.031 AVG Test Loss:0.045,            AVG Training Acc 98.98, AVG Test Acc 98.78\n",
            "Epoch:9/10 AVG Training Loss:0.028 AVG Test Loss:0.033,            AVG Training Acc 99.14, AVG Test Acc 99.22\n",
            "Epoch:10/10 AVG Training Loss:0.026 AVG Test Loss:0.039,            AVG Training Acc 99.20, AVG Test Acc 99.02\n",
            "Fold: 4\n",
            "Epoch:1/10 AVG Training Loss:0.873 AVG Test Loss:0.160,            AVG Training Acc 75.86, AVG Test Acc 95.47\n",
            "Epoch:2/10 AVG Training Loss:0.163 AVG Test Loss:0.079,            AVG Training Acc 95.31, AVG Test Acc 97.93\n",
            "Epoch:3/10 AVG Training Loss:0.101 AVG Test Loss:0.061,            AVG Training Acc 97.04, AVG Test Acc 98.32\n",
            "Epoch:4/10 AVG Training Loss:0.062 AVG Test Loss:0.045,            AVG Training Acc 98.15, AVG Test Acc 98.74\n",
            "Epoch:5/10 AVG Training Loss:0.056 AVG Test Loss:0.048,            AVG Training Acc 98.28, AVG Test Acc 98.61\n",
            "Epoch:6/10 AVG Training Loss:0.034 AVG Test Loss:0.037,            AVG Training Acc 99.08, AVG Test Acc 98.91\n",
            "Epoch:7/10 AVG Training Loss:0.042 AVG Test Loss:0.044,            AVG Training Acc 98.58, AVG Test Acc 98.79\n",
            "Epoch:8/10 AVG Training Loss:0.035 AVG Test Loss:0.035,            AVG Training Acc 98.88, AVG Test Acc 99.11\n",
            "Epoch:9/10 AVG Training Loss:0.043 AVG Test Loss:0.028,            AVG Training Acc 98.69, AVG Test Acc 99.29\n",
            "Epoch:10/10 AVG Training Loss:0.022 AVG Test Loss:0.032,            AVG Training Acc 99.29, AVG Test Acc 99.08\n"
          ]
        }
      ],
      "source": [
        "for fold, (train_idx, val_idx) in enumerate(splits.split(np.arange(len(dataset)))):\n",
        "\n",
        "    print(f'Fold: {fold+1}')\n",
        "\n",
        "    train_sampler = SubsetRandomSampler(train_idx)\n",
        "    test_sampler = SubsetRandomSampler(val_idx)\n",
        "    train_loader = DataLoader(\n",
        "        dataset, batch_size=BATCH_SIZE, sampler=train_sampler)\n",
        "    test_loader = DataLoader(\n",
        "        dataset, batch_size=BATCH_SIZE, sampler=test_sampler)\n",
        "\n",
        "    model = CNN(43)\n",
        "    model.to(device)\n",
        "    optimizer = torch.optim.Adam(model.parameters())\n",
        "\n",
        "    for epoch in range(EPOCHS):\n",
        "        train_loss, train_correct = train_epoch(\n",
        "            model, device, train_loader, criterion, optimizer)\n",
        "        test_loss, test_correct = valid_epoch(\n",
        "            model, device, test_loader, criterion)\n",
        "\n",
        "        train_loss = train_loss / len(train_loader.sampler)\n",
        "        train_acc = train_correct / len(train_loader.sampler) * 100\n",
        "        test_loss = test_loss / len(test_loader.sampler)\n",
        "        test_acc = test_correct / len(test_loader.sampler) * 100\n",
        "\n",
        "        print(f\"Epoch:{epoch + 1}/{EPOCHS} AVG Training Loss:{train_loss:.3f} AVG Test Loss:{test_loss:.3f},\\\n",
        "            AVG Training Acc {train_acc:.2f}, AVG Test Acc {test_acc:.2f}\")\n",
        "        \n",
        "        history['train_loss'].append(train_loss)\n",
        "        history['test_loss'].append(test_loss)\n",
        "        history['train_acc'].append(train_acc)\n",
        "        history['test_acc'].append(test_acc)"
      ]
    },
    {
      "cell_type": "markdown",
      "metadata": {
        "id": "Nmgu-flx1Hvo"
      },
      "source": [
        "# **Performances for each testing set**"
      ]
    },
    {
      "cell_type": "code",
      "execution_count": 24,
      "metadata": {
        "colab": {
          "base_uri": "https://localhost:8080/",
          "height": 1000
        },
        "id": "-xkC8q1UzV7z",
        "outputId": "fa10d661-5edc-4f0b-afab-018ede36e9de"
      },
      "outputs": [
        {
          "data": {
            "image/png": "[encoded data removed]",
            "text/plain": [
              "<Figure size 432x288 with 1 Axes>"
            ]
          },
          "metadata": {
            "needs_background": "light"
          },
          "output_type": "display_data"
        },
        {
          "data": {
            "image/png": "[encoded data removed]",
            "text/plain": [
              "<Figure size 432x288 with 1 Axes>"
            ]
          },
          "metadata": {
            "needs_background": "light"
          },
          "output_type": "display_data"
        },
        {
          "data": {
            "image/png": "[encoded data removed]",
            "text/plain": [
              "<Figure size 432x288 with 1 Axes>"
            ]
          },
          "metadata": {
            "needs_background": "light"
          },
          "output_type": "display_data"
        },
        {
          "data": {
            "image/png": "[encoded data removed]",
            "text/plain": [
              "<Figure size 432x288 with 1 Axes>"
            ]
          },
          "metadata": {
            "needs_background": "light"
          },
          "output_type": "display_data"
        }
      ],
      "source": [
        "def plot_history(series:list, title:str):\n",
        "  series = np.array(series).reshape(4, -1)\n",
        "  plt.figure()\n",
        "  for fold in series:\n",
        "    plt.plot(fold)\n",
        "  plt.title(title)\n",
        "  plt.show()\n",
        "\n",
        "for i in history.keys():\n",
        "  plot_history(history[i], title=i)"
      ]
    },
    {
      "cell_type": "markdown",
      "metadata": {},
      "source": [
        "# **Conclusion**\n",
        "\n",
        "After implementing 4-fold cross validation, we can see that the model is learning similarly on every group of 3 folds and achieving the same results on the 4th.\n",
        "\n",
        "We can therefore conclude that the model is able to *__generalize__* well."
      ]
    }
  ],
  "metadata": {
    "accelerator": "GPU",
    "colab": {
      "provenance": []
    },
    "gpuClass": "standard",
    "kernelspec": {
      "display_name": "Python 3.10.7 64-bit",
      "language": "python",
      "name": "python3"
    },
    "language_info": {
      "codemirror_mode": {
        "name": "ipython",
        "version": 3
      },
      "file_extension": ".py",
      "mimetype": "text/x-python",
      "name": "python",
      "nbconvert_exporter": "python",
      "pygments_lexer": "ipython3",
      "version": "3.10.7"
    },
    "orig_nbformat": 4,
    "vscode": {
      "interpreter": {
        "hash": "2711d530959f26019c975a57a64a7b4a29e1c2b9bdd7341b03a02057f2c34a89"
      }
    },
    "widgets": {
      "application/vnd.jupyter.widget-state+json": {
        "09aa61033f8148a5ba4a7f34754fc60a": {
          "model_module": "@jupyter-widgets/controls",
          "model_module_version": "1.5.0",
          "model_name": "HBoxModel",
          "state": {
            "_dom_classes": [],
            "_model_module": "@jupyter-widgets/controls",
            "_model_module_version": "1.5.0",
            "_model_name": "HBoxModel",
            "_view_count": null,
            "_view_module": "@jupyter-widgets/controls",
            "_view_module_version": "1.5.0",
            "_view_name": "HBoxView",
            "box_style": "",
            "children": [
              "IPY_MODEL_1f4e6caff3c440b28f48fb03e57ec3ba",
              "IPY_MODEL_fa67addf26914522b8b74b1f47a1e7f5",
              "IPY_MODEL_e748e10cf6614922b0422d37c556438f"
            ],
            "layout": "IPY_MODEL_7d66ee34122740868c18ae4648ba0c28"
          }
        },
        "1d59c11cbfd24fdfb7329d97d70ca07f": {
          "model_module": "@jupyter-widgets/controls",
          "model_module_version": "1.5.0",
          "model_name": "DescriptionStyleModel",
          "state": {
            "_model_module": "@jupyter-widgets/controls",
            "_model_module_version": "1.5.0",
            "_model_name": "DescriptionStyleModel",
            "_view_count": null,
            "_view_module": "@jupyter-widgets/base",
            "_view_module_version": "1.2.0",
            "_view_name": "StyleView",
            "description_width": ""
          }
        },
        "1f4e6caff3c440b28f48fb03e57ec3ba": {
          "model_module": "@jupyter-widgets/controls",
          "model_module_version": "1.5.0",
          "model_name": "HTMLModel",
          "state": {
            "_dom_classes": [],
            "_model_module": "@jupyter-widgets/controls",
            "_model_module_version": "1.5.0",
            "_model_name": "HTMLModel",
            "_view_count": null,
            "_view_module": "@jupyter-widgets/controls",
            "_view_module_version": "1.5.0",
            "_view_name": "HTMLView",
            "description": "",
            "description_tooltip": null,
            "layout": "IPY_MODEL_30b4998fe00c4c129a409e86d559e77e",
            "placeholder": "​",
            "style": "IPY_MODEL_1d59c11cbfd24fdfb7329d97d70ca07f",
            "value": "100%"
          }
        },
        "2ba4c38b5ca24e1bb1962cbcff83f30d": {
          "model_module": "@jupyter-widgets/base",
          "model_module_version": "1.2.0",
          "model_name": "LayoutModel",
          "state": {
            "_model_module": "@jupyter-widgets/base",
            "_model_module_version": "1.2.0",
            "_model_name": "LayoutModel",
            "_view_count": null,
            "_view_module": "@jupyter-widgets/base",
            "_view_module_version": "1.2.0",
            "_view_name": "LayoutView",
            "align_content": null,
            "align_items": null,
            "align_self": null,
            "border": null,
            "bottom": null,
            "display": null,
            "flex": null,
            "flex_flow": null,
            "grid_area": null,
            "grid_auto_columns": null,
            "grid_auto_flow": null,
            "grid_auto_rows": null,
            "grid_column": null,
            "grid_gap": null,
            "grid_row": null,
            "grid_template_areas": null,
            "grid_template_columns": null,
            "grid_template_rows": null,
            "height": null,
            "justify_content": null,
            "justify_items": null,
            "left": null,
            "margin": null,
            "max_height": null,
            "max_width": null,
            "min_height": null,
            "min_width": null,
            "object_fit": null,
            "object_position": null,
            "order": null,
            "overflow": null,
            "overflow_x": null,
            "overflow_y": null,
            "padding": null,
            "right": null,
            "top": null,
            "visibility": null,
            "width": null
          }
        },
        "30b4998fe00c4c129a409e86d559e77e": {
          "model_module": "@jupyter-widgets/base",
          "model_module_version": "1.2.0",
          "model_name": "LayoutModel",
          "state": {
            "_model_module": "@jupyter-widgets/base",
            "_model_module_version": "1.2.0",
            "_model_name": "LayoutModel",
            "_view_count": null,
            "_view_module": "@jupyter-widgets/base",
            "_view_module_version": "1.2.0",
            "_view_name": "LayoutView",
            "align_content": null,
            "align_items": null,
            "align_self": null,
            "border": null,
            "bottom": null,
            "display": null,
            "flex": null,
            "flex_flow": null,
            "grid_area": null,
            "grid_auto_columns": null,
            "grid_auto_flow": null,
            "grid_auto_rows": null,
            "grid_column": null,
            "grid_gap": null,
            "grid_row": null,
            "grid_template_areas": null,
            "grid_template_columns": null,
            "grid_template_rows": null,
            "height": null,
            "justify_content": null,
            "justify_items": null,
            "left": null,
            "margin": null,
            "max_height": null,
            "max_width": null,
            "min_height": null,
            "min_width": null,
            "object_fit": null,
            "object_position": null,
            "order": null,
            "overflow": null,
            "overflow_x": null,
            "overflow_y": null,
            "padding": null,
            "right": null,
            "top": null,
            "visibility": null,
            "width": null
          }
        },
        "358e0cffdd044e77bbc77efff2dc5312": {
          "model_module": "@jupyter-widgets/controls",
          "model_module_version": "1.5.0",
          "model_name": "ProgressStyleModel",
          "state": {
            "_model_module": "@jupyter-widgets/controls",
            "_model_module_version": "1.5.0",
            "_model_name": "ProgressStyleModel",
            "_view_count": null,
            "_view_module": "@jupyter-widgets/base",
            "_view_module_version": "1.2.0",
            "_view_name": "StyleView",
            "bar_color": null,
            "description_width": ""
          }
        },
        "35a049c182d94463885e17ba4540b785": {
          "model_module": "@jupyter-widgets/base",
          "model_module_version": "1.2.0",
          "model_name": "LayoutModel",
          "state": {
            "_model_module": "@jupyter-widgets/base",
            "_model_module_version": "1.2.0",
            "_model_name": "LayoutModel",
            "_view_count": null,
            "_view_module": "@jupyter-widgets/base",
            "_view_module_version": "1.2.0",
            "_view_name": "LayoutView",
            "align_content": null,
            "align_items": null,
            "align_self": null,
            "border": null,
            "bottom": null,
            "display": null,
            "flex": null,
            "flex_flow": null,
            "grid_area": null,
            "grid_auto_columns": null,
            "grid_auto_flow": null,
            "grid_auto_rows": null,
            "grid_column": null,
            "grid_gap": null,
            "grid_row": null,
            "grid_template_areas": null,
            "grid_template_columns": null,
            "grid_template_rows": null,
            "height": null,
            "justify_content": null,
            "justify_items": null,
            "left": null,
            "margin": null,
            "max_height": null,
            "max_width": null,
            "min_height": null,
            "min_width": null,
            "object_fit": null,
            "object_position": null,
            "order": null,
            "overflow": null,
            "overflow_x": null,
            "overflow_y": null,
            "padding": null,
            "right": null,
            "top": null,
            "visibility": null,
            "width": null
          }
        },
        "35e07327d87f44bab2500a07a6d27dc0": {
          "model_module": "@jupyter-widgets/controls",
          "model_module_version": "1.5.0",
          "model_name": "HBoxModel",
          "state": {
            "_dom_classes": [],
            "_model_module": "@jupyter-widgets/controls",
            "_model_module_version": "1.5.0",
            "_model_name": "HBoxModel",
            "_view_count": null,
            "_view_module": "@jupyter-widgets/controls",
            "_view_module_version": "1.5.0",
            "_view_name": "HBoxView",
            "box_style": "",
            "children": [
              "IPY_MODEL_fad113955b984f8abadd6ba8674d97d8",
              "IPY_MODEL_512bde4d92b94c65a9ace6c6b5a79db9",
              "IPY_MODEL_90405142cdb64532b2c8fb880d6a3603"
            ],
            "layout": "IPY_MODEL_2ba4c38b5ca24e1bb1962cbcff83f30d"
          }
        },
        "512bde4d92b94c65a9ace6c6b5a79db9": {
          "model_module": "@jupyter-widgets/controls",
          "model_module_version": "1.5.0",
          "model_name": "FloatProgressModel",
          "state": {
            "_dom_classes": [],
            "_model_module": "@jupyter-widgets/controls",
            "_model_module_version": "1.5.0",
            "_model_name": "FloatProgressModel",
            "_view_count": null,
            "_view_module": "@jupyter-widgets/controls",
            "_view_module_version": "1.5.0",
            "_view_name": "ProgressView",
            "bar_style": "success",
            "description": "",
            "description_tooltip": null,
            "layout": "IPY_MODEL_abb0121370dc414cbc40735b412d8cdb",
            "max": 88978620,
            "min": 0,
            "orientation": "horizontal",
            "style": "IPY_MODEL_e92f556406ab4d668942e49329202a8b",
            "value": 88978620
          }
        },
        "51b124a3300d469f9a9e1697371499de": {
          "model_module": "@jupyter-widgets/controls",
          "model_module_version": "1.5.0",
          "model_name": "DescriptionStyleModel",
          "state": {
            "_model_module": "@jupyter-widgets/controls",
            "_model_module_version": "1.5.0",
            "_model_name": "DescriptionStyleModel",
            "_view_count": null,
            "_view_module": "@jupyter-widgets/base",
            "_view_module_version": "1.2.0",
            "_view_name": "StyleView",
            "description_width": ""
          }
        },
        "51c8b90a18a74b19a787aad4b4890ecf": {
          "model_module": "@jupyter-widgets/controls",
          "model_module_version": "1.5.0",
          "model_name": "HTMLModel",
          "state": {
            "_dom_classes": [],
            "_model_module": "@jupyter-widgets/controls",
            "_model_module_version": "1.5.0",
            "_model_name": "HTMLModel",
            "_view_count": null,
            "_view_module": "@jupyter-widgets/controls",
            "_view_module_version": "1.5.0",
            "_view_name": "HTMLView",
            "description": "",
            "description_tooltip": null,
            "layout": "IPY_MODEL_9521394676af43db8d8b544c347512d2",
            "placeholder": "​",
            "style": "IPY_MODEL_51b124a3300d469f9a9e1697371499de",
            "value": "100%"
          }
        },
        "5dd4f262f1044dd187a777ed4c51aba3": {
          "model_module": "@jupyter-widgets/controls",
          "model_module_version": "1.5.0",
          "model_name": "HBoxModel",
          "state": {
            "_dom_classes": [],
            "_model_module": "@jupyter-widgets/controls",
            "_model_module_version": "1.5.0",
            "_model_name": "HBoxModel",
            "_view_count": null,
            "_view_module": "@jupyter-widgets/controls",
            "_view_module_version": "1.5.0",
            "_view_name": "HBoxView",
            "box_style": "",
            "children": [
              "IPY_MODEL_51c8b90a18a74b19a787aad4b4890ecf",
              "IPY_MODEL_cb068b0b8a8842a0b7d3c78433be27b9",
              "IPY_MODEL_bcbda30835924aa6a8ed1e2bf4abdde9"
            ],
            "layout": "IPY_MODEL_ce81a98704c3490bb660b6c2f7a4e891"
          }
        },
        "699c012022f94e64ab13889e3b71eda6": {
          "model_module": "@jupyter-widgets/controls",
          "model_module_version": "1.5.0",
          "model_name": "ProgressStyleModel",
          "state": {
            "_model_module": "@jupyter-widgets/controls",
            "_model_module_version": "1.5.0",
            "_model_name": "ProgressStyleModel",
            "_view_count": null,
            "_view_module": "@jupyter-widgets/base",
            "_view_module_version": "1.2.0",
            "_view_name": "StyleView",
            "bar_color": null,
            "description_width": ""
          }
        },
        "7d66ee34122740868c18ae4648ba0c28": {
          "model_module": "@jupyter-widgets/base",
          "model_module_version": "1.2.0",
          "model_name": "LayoutModel",
          "state": {
            "_model_module": "@jupyter-widgets/base",
            "_model_module_version": "1.2.0",
            "_model_name": "LayoutModel",
            "_view_count": null,
            "_view_module": "@jupyter-widgets/base",
            "_view_module_version": "1.2.0",
            "_view_name": "LayoutView",
            "align_content": null,
            "align_items": null,
            "align_self": null,
            "border": null,
            "bottom": null,
            "display": null,
            "flex": null,
            "flex_flow": null,
            "grid_area": null,
            "grid_auto_columns": null,
            "grid_auto_flow": null,
            "grid_auto_rows": null,
            "grid_column": null,
            "grid_gap": null,
            "grid_row": null,
            "grid_template_areas": null,
            "grid_template_columns": null,
            "grid_template_rows": null,
            "height": null,
            "justify_content": null,
            "justify_items": null,
            "left": null,
            "margin": null,
            "max_height": null,
            "max_width": null,
            "min_height": null,
            "min_width": null,
            "object_fit": null,
            "object_position": null,
            "order": null,
            "overflow": null,
            "overflow_x": null,
            "overflow_y": null,
            "padding": null,
            "right": null,
            "top": null,
            "visibility": null,
            "width": null
          }
        },
        "82802a373109424580b04e6bb60df7e8": {
          "model_module": "@jupyter-widgets/controls",
          "model_module_version": "1.5.0",
          "model_name": "DescriptionStyleModel",
          "state": {
            "_model_module": "@jupyter-widgets/controls",
            "_model_module_version": "1.5.0",
            "_model_name": "DescriptionStyleModel",
            "_view_count": null,
            "_view_module": "@jupyter-widgets/base",
            "_view_module_version": "1.2.0",
            "_view_name": "StyleView",
            "description_width": ""
          }
        },
        "8a5cf044b89143b698e204ea5f9a9b1f": {
          "model_module": "@jupyter-widgets/base",
          "model_module_version": "1.2.0",
          "model_name": "LayoutModel",
          "state": {
            "_model_module": "@jupyter-widgets/base",
            "_model_module_version": "1.2.0",
            "_model_name": "LayoutModel",
            "_view_count": null,
            "_view_module": "@jupyter-widgets/base",
            "_view_module_version": "1.2.0",
            "_view_name": "LayoutView",
            "align_content": null,
            "align_items": null,
            "align_self": null,
            "border": null,
            "bottom": null,
            "display": null,
            "flex": null,
            "flex_flow": null,
            "grid_area": null,
            "grid_auto_columns": null,
            "grid_auto_flow": null,
            "grid_auto_rows": null,
            "grid_column": null,
            "grid_gap": null,
            "grid_row": null,
            "grid_template_areas": null,
            "grid_template_columns": null,
            "grid_template_rows": null,
            "height": null,
            "justify_content": null,
            "justify_items": null,
            "left": null,
            "margin": null,
            "max_height": null,
            "max_width": null,
            "min_height": null,
            "min_width": null,
            "object_fit": null,
            "object_position": null,
            "order": null,
            "overflow": null,
            "overflow_x": null,
            "overflow_y": null,
            "padding": null,
            "right": null,
            "top": null,
            "visibility": null,
            "width": null
          }
        },
        "90405142cdb64532b2c8fb880d6a3603": {
          "model_module": "@jupyter-widgets/controls",
          "model_module_version": "1.5.0",
          "model_name": "HTMLModel",
          "state": {
            "_dom_classes": [],
            "_model_module": "@jupyter-widgets/controls",
            "_model_module_version": "1.5.0",
            "_model_name": "HTMLModel",
            "_view_count": null,
            "_view_module": "@jupyter-widgets/controls",
            "_view_module_version": "1.5.0",
            "_view_name": "HTMLView",
            "description": "",
            "description_tooltip": null,
            "layout": "IPY_MODEL_ad8c403a6b4244fab2a68125a11df573",
            "placeholder": "​",
            "style": "IPY_MODEL_82802a373109424580b04e6bb60df7e8",
            "value": " 88978620/88978620 [00:08&lt;00:00, 14090219.71it/s]"
          }
        },
        "9521394676af43db8d8b544c347512d2": {
          "model_module": "@jupyter-widgets/base",
          "model_module_version": "1.2.0",
          "model_name": "LayoutModel",
          "state": {
            "_model_module": "@jupyter-widgets/base",
            "_model_module_version": "1.2.0",
            "_model_name": "LayoutModel",
            "_view_count": null,
            "_view_module": "@jupyter-widgets/base",
            "_view_module_version": "1.2.0",
            "_view_name": "LayoutView",
            "align_content": null,
            "align_items": null,
            "align_self": null,
            "border": null,
            "bottom": null,
            "display": null,
            "flex": null,
            "flex_flow": null,
            "grid_area": null,
            "grid_auto_columns": null,
            "grid_auto_flow": null,
            "grid_auto_rows": null,
            "grid_column": null,
            "grid_gap": null,
            "grid_row": null,
            "grid_template_areas": null,
            "grid_template_columns": null,
            "grid_template_rows": null,
            "height": null,
            "justify_content": null,
            "justify_items": null,
            "left": null,
            "margin": null,
            "max_height": null,
            "max_width": null,
            "min_height": null,
            "min_width": null,
            "object_fit": null,
            "object_position": null,
            "order": null,
            "overflow": null,
            "overflow_x": null,
            "overflow_y": null,
            "padding": null,
            "right": null,
            "top": null,
            "visibility": null,
            "width": null
          }
        },
        "abb0121370dc414cbc40735b412d8cdb": {
          "model_module": "@jupyter-widgets/base",
          "model_module_version": "1.2.0",
          "model_name": "LayoutModel",
          "state": {
            "_model_module": "@jupyter-widgets/base",
            "_model_module_version": "1.2.0",
            "_model_name": "LayoutModel",
            "_view_count": null,
            "_view_module": "@jupyter-widgets/base",
            "_view_module_version": "1.2.0",
            "_view_name": "LayoutView",
            "align_content": null,
            "align_items": null,
            "align_self": null,
            "border": null,
            "bottom": null,
            "display": null,
            "flex": null,
            "flex_flow": null,
            "grid_area": null,
            "grid_auto_columns": null,
            "grid_auto_flow": null,
            "grid_auto_rows": null,
            "grid_column": null,
            "grid_gap": null,
            "grid_row": null,
            "grid_template_areas": null,
            "grid_template_columns": null,
            "grid_template_rows": null,
            "height": null,
            "justify_content": null,
            "justify_items": null,
            "left": null,
            "margin": null,
            "max_height": null,
            "max_width": null,
            "min_height": null,
            "min_width": null,
            "object_fit": null,
            "object_position": null,
            "order": null,
            "overflow": null,
            "overflow_x": null,
            "overflow_y": null,
            "padding": null,
            "right": null,
            "top": null,
            "visibility": null,
            "width": null
          }
        },
        "abdef9f3281049c9ac603ef280920052": {
          "model_module": "@jupyter-widgets/controls",
          "model_module_version": "1.5.0",
          "model_name": "DescriptionStyleModel",
          "state": {
            "_model_module": "@jupyter-widgets/controls",
            "_model_module_version": "1.5.0",
            "_model_name": "DescriptionStyleModel",
            "_view_count": null,
            "_view_module": "@jupyter-widgets/base",
            "_view_module_version": "1.2.0",
            "_view_name": "StyleView",
            "description_width": ""
          }
        },
        "ad8c403a6b4244fab2a68125a11df573": {
          "model_module": "@jupyter-widgets/base",
          "model_module_version": "1.2.0",
          "model_name": "LayoutModel",
          "state": {
            "_model_module": "@jupyter-widgets/base",
            "_model_module_version": "1.2.0",
            "_model_name": "LayoutModel",
            "_view_count": null,
            "_view_module": "@jupyter-widgets/base",
            "_view_module_version": "1.2.0",
            "_view_name": "LayoutView",
            "align_content": null,
            "align_items": null,
            "align_self": null,
            "border": null,
            "bottom": null,
            "display": null,
            "flex": null,
            "flex_flow": null,
            "grid_area": null,
            "grid_auto_columns": null,
            "grid_auto_flow": null,
            "grid_auto_rows": null,
            "grid_column": null,
            "grid_gap": null,
            "grid_row": null,
            "grid_template_areas": null,
            "grid_template_columns": null,
            "grid_template_rows": null,
            "height": null,
            "justify_content": null,
            "justify_items": null,
            "left": null,
            "margin": null,
            "max_height": null,
            "max_width": null,
            "min_height": null,
            "min_width": null,
            "object_fit": null,
            "object_position": null,
            "order": null,
            "overflow": null,
            "overflow_x": null,
            "overflow_y": null,
            "padding": null,
            "right": null,
            "top": null,
            "visibility": null,
            "width": null
          }
        },
        "b263fc868a214e59960991bda94dcdea": {
          "model_module": "@jupyter-widgets/base",
          "model_module_version": "1.2.0",
          "model_name": "LayoutModel",
          "state": {
            "_model_module": "@jupyter-widgets/base",
            "_model_module_version": "1.2.0",
            "_model_name": "LayoutModel",
            "_view_count": null,
            "_view_module": "@jupyter-widgets/base",
            "_view_module_version": "1.2.0",
            "_view_name": "LayoutView",
            "align_content": null,
            "align_items": null,
            "align_self": null,
            "border": null,
            "bottom": null,
            "display": null,
            "flex": null,
            "flex_flow": null,
            "grid_area": null,
            "grid_auto_columns": null,
            "grid_auto_flow": null,
            "grid_auto_rows": null,
            "grid_column": null,
            "grid_gap": null,
            "grid_row": null,
            "grid_template_areas": null,
            "grid_template_columns": null,
            "grid_template_rows": null,
            "height": null,
            "justify_content": null,
            "justify_items": null,
            "left": null,
            "margin": null,
            "max_height": null,
            "max_width": null,
            "min_height": null,
            "min_width": null,
            "object_fit": null,
            "object_position": null,
            "order": null,
            "overflow": null,
            "overflow_x": null,
            "overflow_y": null,
            "padding": null,
            "right": null,
            "top": null,
            "visibility": null,
            "width": null
          }
        },
        "ba532e787bda4bd8a39fcd40c2293ac8": {
          "model_module": "@jupyter-widgets/base",
          "model_module_version": "1.2.0",
          "model_name": "LayoutModel",
          "state": {
            "_model_module": "@jupyter-widgets/base",
            "_model_module_version": "1.2.0",
            "_model_name": "LayoutModel",
            "_view_count": null,
            "_view_module": "@jupyter-widgets/base",
            "_view_module_version": "1.2.0",
            "_view_name": "LayoutView",
            "align_content": null,
            "align_items": null,
            "align_self": null,
            "border": null,
            "bottom": null,
            "display": null,
            "flex": null,
            "flex_flow": null,
            "grid_area": null,
            "grid_auto_columns": null,
            "grid_auto_flow": null,
            "grid_auto_rows": null,
            "grid_column": null,
            "grid_gap": null,
            "grid_row": null,
            "grid_template_areas": null,
            "grid_template_columns": null,
            "grid_template_rows": null,
            "height": null,
            "justify_content": null,
            "justify_items": null,
            "left": null,
            "margin": null,
            "max_height": null,
            "max_width": null,
            "min_height": null,
            "min_width": null,
            "object_fit": null,
            "object_position": null,
            "order": null,
            "overflow": null,
            "overflow_x": null,
            "overflow_y": null,
            "padding": null,
            "right": null,
            "top": null,
            "visibility": null,
            "width": null
          }
        },
        "bcbda30835924aa6a8ed1e2bf4abdde9": {
          "model_module": "@jupyter-widgets/controls",
          "model_module_version": "1.5.0",
          "model_name": "HTMLModel",
          "state": {
            "_dom_classes": [],
            "_model_module": "@jupyter-widgets/controls",
            "_model_module_version": "1.5.0",
            "_model_name": "HTMLModel",
            "_view_count": null,
            "_view_module": "@jupyter-widgets/controls",
            "_view_module_version": "1.5.0",
            "_view_name": "HTMLView",
            "description": "",
            "description_tooltip": null,
            "layout": "IPY_MODEL_35a049c182d94463885e17ba4540b785",
            "placeholder": "​",
            "style": "IPY_MODEL_bdc229cfbcb6460cabd71feee404faec",
            "value": " 99620/99620 [00:00&lt;00:00, 148822.08it/s]"
          }
        },
        "bdc229cfbcb6460cabd71feee404faec": {
          "model_module": "@jupyter-widgets/controls",
          "model_module_version": "1.5.0",
          "model_name": "DescriptionStyleModel",
          "state": {
            "_model_module": "@jupyter-widgets/controls",
            "_model_module_version": "1.5.0",
            "_model_name": "DescriptionStyleModel",
            "_view_count": null,
            "_view_module": "@jupyter-widgets/base",
            "_view_module_version": "1.2.0",
            "_view_name": "StyleView",
            "description_width": ""
          }
        },
        "cb068b0b8a8842a0b7d3c78433be27b9": {
          "model_module": "@jupyter-widgets/controls",
          "model_module_version": "1.5.0",
          "model_name": "FloatProgressModel",
          "state": {
            "_dom_classes": [],
            "_model_module": "@jupyter-widgets/controls",
            "_model_module_version": "1.5.0",
            "_model_name": "FloatProgressModel",
            "_view_count": null,
            "_view_module": "@jupyter-widgets/controls",
            "_view_module_version": "1.5.0",
            "_view_name": "ProgressView",
            "bar_style": "success",
            "description": "",
            "description_tooltip": null,
            "layout": "IPY_MODEL_8a5cf044b89143b698e204ea5f9a9b1f",
            "max": 99620,
            "min": 0,
            "orientation": "horizontal",
            "style": "IPY_MODEL_699c012022f94e64ab13889e3b71eda6",
            "value": 99620
          }
        },
        "ce81a98704c3490bb660b6c2f7a4e891": {
          "model_module": "@jupyter-widgets/base",
          "model_module_version": "1.2.0",
          "model_name": "LayoutModel",
          "state": {
            "_model_module": "@jupyter-widgets/base",
            "_model_module_version": "1.2.0",
            "_model_name": "LayoutModel",
            "_view_count": null,
            "_view_module": "@jupyter-widgets/base",
            "_view_module_version": "1.2.0",
            "_view_name": "LayoutView",
            "align_content": null,
            "align_items": null,
            "align_self": null,
            "border": null,
            "bottom": null,
            "display": null,
            "flex": null,
            "flex_flow": null,
            "grid_area": null,
            "grid_auto_columns": null,
            "grid_auto_flow": null,
            "grid_auto_rows": null,
            "grid_column": null,
            "grid_gap": null,
            "grid_row": null,
            "grid_template_areas": null,
            "grid_template_columns": null,
            "grid_template_rows": null,
            "height": null,
            "justify_content": null,
            "justify_items": null,
            "left": null,
            "margin": null,
            "max_height": null,
            "max_width": null,
            "min_height": null,
            "min_width": null,
            "object_fit": null,
            "object_position": null,
            "order": null,
            "overflow": null,
            "overflow_x": null,
            "overflow_y": null,
            "padding": null,
            "right": null,
            "top": null,
            "visibility": null,
            "width": null
          }
        },
        "e748e10cf6614922b0422d37c556438f": {
          "model_module": "@jupyter-widgets/controls",
          "model_module_version": "1.5.0",
          "model_name": "HTMLModel",
          "state": {
            "_dom_classes": [],
            "_model_module": "@jupyter-widgets/controls",
            "_model_module_version": "1.5.0",
            "_model_name": "HTMLModel",
            "_view_count": null,
            "_view_module": "@jupyter-widgets/controls",
            "_view_module_version": "1.5.0",
            "_view_name": "HTMLView",
            "description": "",
            "description_tooltip": null,
            "layout": "IPY_MODEL_ba532e787bda4bd8a39fcd40c2293ac8",
            "placeholder": "​",
            "style": "IPY_MODEL_abdef9f3281049c9ac603ef280920052",
            "value": " 187490228/187490228 [00:16&lt;00:00, 13646878.48it/s]"
          }
        },
        "e92f556406ab4d668942e49329202a8b": {
          "model_module": "@jupyter-widgets/controls",
          "model_module_version": "1.5.0",
          "model_name": "ProgressStyleModel",
          "state": {
            "_model_module": "@jupyter-widgets/controls",
            "_model_module_version": "1.5.0",
            "_model_name": "ProgressStyleModel",
            "_view_count": null,
            "_view_module": "@jupyter-widgets/base",
            "_view_module_version": "1.2.0",
            "_view_name": "StyleView",
            "bar_color": null,
            "description_width": ""
          }
        },
        "e9b3c282f32c4637b997b72aee5e88a1": {
          "model_module": "@jupyter-widgets/controls",
          "model_module_version": "1.5.0",
          "model_name": "DescriptionStyleModel",
          "state": {
            "_model_module": "@jupyter-widgets/controls",
            "_model_module_version": "1.5.0",
            "_model_name": "DescriptionStyleModel",
            "_view_count": null,
            "_view_module": "@jupyter-widgets/base",
            "_view_module_version": "1.2.0",
            "_view_name": "StyleView",
            "description_width": ""
          }
        },
        "f4ef60ddff9f4a4b98bb4a918638ce06": {
          "model_module": "@jupyter-widgets/base",
          "model_module_version": "1.2.0",
          "model_name": "LayoutModel",
          "state": {
            "_model_module": "@jupyter-widgets/base",
            "_model_module_version": "1.2.0",
            "_model_name": "LayoutModel",
            "_view_count": null,
            "_view_module": "@jupyter-widgets/base",
            "_view_module_version": "1.2.0",
            "_view_name": "LayoutView",
            "align_content": null,
            "align_items": null,
            "align_self": null,
            "border": null,
            "bottom": null,
            "display": null,
            "flex": null,
            "flex_flow": null,
            "grid_area": null,
            "grid_auto_columns": null,
            "grid_auto_flow": null,
            "grid_auto_rows": null,
            "grid_column": null,
            "grid_gap": null,
            "grid_row": null,
            "grid_template_areas": null,
            "grid_template_columns": null,
            "grid_template_rows": null,
            "height": null,
            "justify_content": null,
            "justify_items": null,
            "left": null,
            "margin": null,
            "max_height": null,
            "max_width": null,
            "min_height": null,
            "min_width": null,
            "object_fit": null,
            "object_position": null,
            "order": null,
            "overflow": null,
            "overflow_x": null,
            "overflow_y": null,
            "padding": null,
            "right": null,
            "top": null,
            "visibility": null,
            "width": null
          }
        },
        "fa67addf26914522b8b74b1f47a1e7f5": {
          "model_module": "@jupyter-widgets/controls",
          "model_module_version": "1.5.0",
          "model_name": "FloatProgressModel",
          "state": {
            "_dom_classes": [],
            "_model_module": "@jupyter-widgets/controls",
            "_model_module_version": "1.5.0",
            "_model_name": "FloatProgressModel",
            "_view_count": null,
            "_view_module": "@jupyter-widgets/controls",
            "_view_module_version": "1.5.0",
            "_view_name": "ProgressView",
            "bar_style": "success",
            "description": "",
            "description_tooltip": null,
            "layout": "IPY_MODEL_b263fc868a214e59960991bda94dcdea",
            "max": 187490228,
            "min": 0,
            "orientation": "horizontal",
            "style": "IPY_MODEL_358e0cffdd044e77bbc77efff2dc5312",
            "value": 187490228
          }
        },
        "fad113955b984f8abadd6ba8674d97d8": {
          "model_module": "@jupyter-widgets/controls",
          "model_module_version": "1.5.0",
          "model_name": "HTMLModel",
          "state": {
            "_dom_classes": [],
            "_model_module": "@jupyter-widgets/controls",
            "_model_module_version": "1.5.0",
            "_model_name": "HTMLModel",
            "_view_count": null,
            "_view_module": "@jupyter-widgets/controls",
            "_view_module_version": "1.5.0",
            "_view_name": "HTMLView",
            "description": "",
            "description_tooltip": null,
            "layout": "IPY_MODEL_f4ef60ddff9f4a4b98bb4a918638ce06",
            "placeholder": "​",
            "style": "IPY_MODEL_e9b3c282f32c4637b997b72aee5e88a1",
            "value": "100%"
          }
        }
      }
    }
  },
  "nbformat": 4,
  "nbformat_minor": 0
}
